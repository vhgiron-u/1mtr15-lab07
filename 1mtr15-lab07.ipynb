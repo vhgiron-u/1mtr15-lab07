{
 "cells": [
  {
   "cell_type": "markdown",
   "id": "dd84dd56",
   "metadata": {},
   "source": [
    "<div style=\"background-color: #042354;padding-top: 10px;padding-bottom: 10px;padding-left: 10px;\">\n",
    "    <img src=\"https://assets.website-files.com/60b56cdf18d38e15ce088579/60b580ab8d45223dc593968d_pucp%7D.svg\" style=\"float: left\"/><br /><br />\n",
    "    <h1 style=\"color:white\">\n",
    "        1MTR15 Temas de Ingeniería Mecatrónica D\n",
    "    </h1>\n",
    "</div>"
   ]
  },
  {
   "cell_type": "markdown",
   "id": "3ec7cdab",
   "metadata": {},
   "source": [
    "<div style=\"background-color: #DDDDDD;padding-top: 10px;padding-bottom: 10px;padding-left: 10px;\">\n",
    "    <h2>Lab 7: [AWS] API Gateway, Lambda, DynamoDB, IAM, S3</h2>\n",
    "</div>"
   ]
  },
  {
   "cell_type": "markdown",
   "id": "398148d1",
   "metadata": {},
   "source": [
    "__Lab instructor:__ Victor Giron"
   ]
  },
  {
   "cell_type": "markdown",
   "id": "857fa4a4",
   "metadata": {},
   "source": [
    "<div class=\"alert alert-block alert-success\">\n",
    "    <h3><b>Lab activities:</b></h3>\n",
    "    <ul>\n",
    "        <li><b>Part 1:</b> Link the API POST method and its Lambda function to the DynamoDB table.</li>\n",
    "        <li><b>Part 2:</b> Create a custom policy in AWS IAM.</li>\n",
    "        <li><b>Part 3:</b> Link the API GET method and its Lambda function to the DynamoDB table.</li>\n",
    "        <li><b>Part 4:</b> Create a custom authorization.</li>\n",
    "        <li><b>Part 5:</b> Host a static website in S3.</li>\n",
    "    </ul>\n",
    "</div>"
   ]
  },
  {
   "cell_type": "markdown",
   "id": "752e0053",
   "metadata": {},
   "source": [
    "### Components overview"
   ]
  },
  {
   "cell_type": "markdown",
   "id": "8b701ca4",
   "metadata": {},
   "source": [
    "<center>\n",
    "        <img src=\"https://i.ibb.co/pJNt0hx/Compare-Yourself-Full-App-II.png\" width=\"750\" />\n",
    "</center>"
   ]
  },
  {
   "cell_type": "markdown",
   "id": "e5e89678",
   "metadata": {},
   "source": [
    "<div style=\"background-color: #f2f2f0;padding-top: 10px;padding-bottom: 10px;padding-left: 10px;\">\n",
    "    <h3>Part 1: Link the API POST method and its Lambda function to the DynamoDB table</h3>\n",
    "</div>"
   ]
  },
  {
   "cell_type": "markdown",
   "id": "ce600693",
   "metadata": {},
   "source": [
    "<div class=\"alert alert-block alert-info\">\n",
    "    As a reminder, from now on <b>[CODE]</b> stands for your student code (e.g., 20201234).\n",
    "</div>"
   ]
  },
  {
   "cell_type": "markdown",
   "id": "8bfb08fe",
   "metadata": {},
   "source": [
    "1. Open __Lambda__ and modify the funtion __`cy-store-data-[CODE]`__ as follows:"
   ]
  },
  {
   "cell_type": "code",
   "execution_count": null,
   "id": "2cfed147",
   "metadata": {},
   "outputs": [],
   "source": [
    "const AWS = require('aws-sdk');\n",
    "const dynamodb = new AWS.DynamoDB({region:'eu-central-1',apiVersion:'2012-08-10'});\n",
    "\n",
    "exports.handler = (event, context, callback) => {\n",
    "    const params = {\n",
    "        Item: {\n",
    "            \"Userid\": {\n",
    "                \"S\": \"U\" + Math.random()\n",
    "            },\n",
    "            \"Age\": {\n",
    "                \"N\": \"\" + event.age\n",
    "            },\n",
    "            \"Height\": {\n",
    "                \"N\": \"\" + event.height\n",
    "            },\n",
    "            \"Income\": { \n",
    "                \"N\": \"\" + event.income\n",
    "            }\n",
    "        },\n",
    "        TableName: \"compare-yourself-20201234\"\n",
    "    }\n",
    "\n",
    "    dynamodb.putItem(params, function(err, data) {\n",
    "        if (!err) {\n",
    "            console.log(data);\n",
    "            callback(null, data);\n",
    "        } else {\n",
    "            console.log(err);\n",
    "            callback(err);\n",
    "        }\n",
    "    })\n",
    "}"
   ]
  },
  {
   "cell_type": "markdown",
   "id": "9bede1bb",
   "metadata": {},
   "source": [
    "&nbsp; 2. __Deploy__ the function.<br /><br />\n",
    "&nbsp; 3. Perform persistence tests with __Lambda__, __API Gateway__ and __Postman__.<br /><br />\n",
    "&nbsp;&nbsp;&nbsp; 3.1 Test with the __Lambda__ console.<br /><br />\n",
    "- Create a __test event__ with the following JSON format:"
   ]
  },
  {
   "cell_type": "code",
   "execution_count": null,
   "id": "4868210c",
   "metadata": {},
   "outputs": [],
   "source": [
    "{\n",
    "    \"age\": \"20\",\n",
    "    \"height\": \"170\",\n",
    "    \"income\": \"10000\"\n",
    "}"
   ]
  },
  {
   "cell_type": "markdown",
   "id": "0df20305",
   "metadata": {},
   "source": [
    "- Open __DynamoDB__ and check the items of the table __`compare-yourself-[CODE]`__ previously created. The values sent from the function __`cy-store-data-[CODE]`__  must be displayed.<br /><br />\n",
    "3.2. Test with __API Gateway__ console.<br /><br />\n",
    "- Go to __`POST > Integration Request > Mapping templates > Content-Type: application-json`__, and check for this template:"
   ]
  },
  {
   "cell_type": "code",
   "execution_count": null,
   "id": "2014c3f2",
   "metadata": {},
   "outputs": [],
   "source": [
    "{\n",
    "    \"age\": $input.json('$.age'),\n",
    "    \"height\": $input.json('$.height'),\n",
    "    \"income\": $input.json('$.income')\n",
    "}"
   ]
  },
  {
   "cell_type": "markdown",
   "id": "e2ee7afb",
   "metadata": {},
   "source": [
    "- Go to __`POST method > Integration Response > Mapping templates > Content-Type: application-json`__, and check for an __empty__ template.<br /><br/>\n",
    "- In __Method Execution__, choose __Test__ with the following __Request Body__:"
   ]
  },
  {
   "cell_type": "code",
   "execution_count": null,
   "id": "2cee199c",
   "metadata": {},
   "outputs": [],
   "source": [
    "{\n",
    "    \"age\": 30,\n",
    "    \"height\": 180,\n",
    "    \"income\": 20000\n",
    "}"
   ]
  },
  {
   "cell_type": "markdown",
   "id": "69fdc8fc",
   "metadata": {},
   "source": [
    "- Switch to __DynamoDB__ and check the items of the table __`compare-yourself-[CODE]`__. The values sent from the __POST__ method in __API Gateway__ must be displayed.\n",
    "\n",
    "3.3. Test using __Postman__.<br/>\n",
    "- __Deploy__ API.<br/><br/>\n",
    "- Open __Postman__, create a new __collection__ and add a __HTTP POST request__.<br/><br/>\n",
    "- Copy the __Invoke URL__ from `API Gateway > Stages > dev > POST` and paste it in the __Postman__ request.<br/><br/>\n",
    "- In the __Body__ tab, select __raw__ and __JSON__ format and type:"
   ]
  },
  {
   "cell_type": "code",
   "execution_count": null,
   "id": "ad5d81d7",
   "metadata": {},
   "outputs": [],
   "source": [
    "{\n",
    "    \"age\": 40,\n",
    "    \"height\": 190,\n",
    "    \"income\": 30000\n",
    "}"
   ]
  },
  {
   "cell_type": "markdown",
   "id": "1cfa6fc0",
   "metadata": {},
   "source": [
    "- Click __Send__.<br /><br />\n",
    "- Check for `status 200` and switch to __DynamoDB__. Check the items of the table __`compare-yourself-[CODE]`__. The values sent from the __Postman__ must be displayed."
   ]
  },
  {
   "cell_type": "markdown",
   "id": "93896dae",
   "metadata": {},
   "source": [
    "<div style=\"background-color: #f2f2f0;padding-top: 10px;padding-bottom: 10px;padding-left: 10px;\">\n",
    "    <h3>Part 2: Create a custom policy in AWS IAM</h3>\n",
    "</div>"
   ]
  },
  {
   "cell_type": "markdown",
   "id": "ce08379c",
   "metadata": {},
   "source": [
    "__Using the pre defined Role__"
   ]
  },
  {
   "cell_type": "markdown",
   "id": "6dfc7fcd",
   "metadata": {},
   "source": [
    "&nbsp; &nbsp; During the semester we will follow these steps:<br /><br />\n",
    "&nbsp; 1. Open __Lambda__ and click on Configuration.<br /><br />\n",
    "&nbsp; 2. Click on Permissions.<br /><br />\n",
    "&nbsp; 3. On Execution role, click on Edit.<br /><br />\n",
    "&nbsp; 4. Change the current role to __cy-store-data-role-jrt56dob__ and click on Save.<br /><br />\n",
    "&nbsp; &nbsp; Now we can skip to __Part 3: Link the API GET method and its Lambda function to the DynamoDB table.__.<br /><br />"
   ]
  },
  {
   "cell_type": "markdown",
   "id": "f30f54f6",
   "metadata": {},
   "source": [
    "__Regular procedure (useful for accounts outside of the course)__"
   ]
  },
  {
   "cell_type": "markdown",
   "id": "9a30b542",
   "metadata": {},
   "source": [
    "<center>\n",
    "        <img src=\"https://docs.aws.amazon.com/es_es/IAM/latest/UserGuide/images/policies-customer-managed-policies.diagram.png\" width=\"500\" />\n",
    "</center>"
   ]
  },
  {
   "cell_type": "markdown",
   "id": "e59bcf54",
   "metadata": {},
   "source": [
    "1. Go to AWS `IAM > Access Management > Policies > Create Policy`<br /><br />\n",
    "2. Select __DynamoDB__ service.<br /><br />\n",
    "3. In __Read__ access level, check __GetItem__ and __Scan__.<br /><br />\n",
    "4. Select __Specific__ resource and click __Add ARN__ (Amazon Resource Name) for __index__.<br /><br />\n",
    "5. Click __List ARNs manually__ and paste the ARN for __`compare-yourself-[CODE]`__ table.<br /><br />\n",
    "6. Click Next: Tags.<br /><br />\n",
    "7. Click Next: Review.<br /><br />\n",
    "8. Name the policy as __`dynamodb-scan-cy-role-[CODE]`__.<br /><br />\n",
    "9. Click __Create policy__.<br /><br />\n",
    "10. Attach the __`dynamodb-scan-cy-role-[CODE]`__ policy to the Lambda execution role for the function __`cy-get-data-[CODE]`__.<br /><br />\n",
    "    - Search for __`dynamodb-scan-cy-role-[CODE]`__.<br /><br />\n",
    "    - Select it and click __Attach__ under the __Actions__ menu.<br /><br />\n",
    "    - Search for the execution role for the function __`cy-get-data-[CODE]`__.<br /><br />\n",
    "    - Select it and click __Attach policy__."
   ]
  },
  {
   "cell_type": "markdown",
   "id": "d443906f",
   "metadata": {},
   "source": [
    "<div style=\"background-color: #f2f2f0;padding-top: 10px;padding-bottom: 10px;padding-left: 10px;\">\n",
    "    <h3>Part 3: Link the API GET method and its Lambda function to the DynamoDB table.</h3>\n",
    "</div>"
   ]
  },
  {
   "cell_type": "markdown",
   "id": "ce821872",
   "metadata": {},
   "source": [
    "1. Go to Lambda and modify the function __`cy-get-data-[CODE]`__ as follows:"
   ]
  },
  {
   "cell_type": "code",
   "execution_count": null,
   "id": "23a83c83",
   "metadata": {},
   "outputs": [],
   "source": [
    "const AWS = require('aws-sdk');\n",
    "const dynamodb = new AWS.DynamoDB({region:'eu-central-1',apiVersion:'2012-08-10'});\n",
    "\n",
    "exports.handler = (event, context, callback) => {\n",
    "    const type = event.type;\n",
    "    \n",
    "    if (type === 'all') {\n",
    "        const params = {\n",
    "            TableName:'compare-yourself-20201234'\n",
    "        }\n",
    "        dynamodb.scan(params, function(err, data) {\n",
    "            if (!err) {\n",
    "                console.log(data);\n",
    "                callback(null, '[OK] ' + data)\n",
    "            } else {\n",
    "                console.log(err);\n",
    "                callback(err);\n",
    "            }\n",
    "        })\n",
    "    } else if (type === 'single') {\n",
    "        callback(null, 'single');\n",
    "    } else {\n",
    "        callback(null, 'other');\n",
    "    }\n",
    "}"
   ]
  },
  {
   "cell_type": "markdown",
   "id": "d21a49c5",
   "metadata": {},
   "source": [
    "&nbsp; 2. __Deploy__ the function.<br /><br />\n",
    "&nbsp; 3. Create a __test event__ with the following JSON format:"
   ]
  },
  {
   "cell_type": "code",
   "execution_count": null,
   "id": "ad668add",
   "metadata": {},
   "outputs": [],
   "source": [
    "{\n",
    "    \"type\": \"all\"\n",
    "}"
   ]
  },
  {
   "cell_type": "markdown",
   "id": "2e1d8e97",
   "metadata": {},
   "source": [
    "&nbsp; 4. Click __Test__ and review the results."
   ]
  },
  {
   "cell_type": "markdown",
   "id": "f87b46b2",
   "metadata": {},
   "source": [
    "<div class=\"alert alert-block alert-info\">\n",
    "In the current state of our code, the items returned are <b>serialized</b> so we cannot see the actual values. To change this behaviour we need to <b>deserialize</b> the data returned from DynamoDB.\n",
    "</div>"
   ]
  },
  {
   "cell_type": "markdown",
   "id": "d8a143ed",
   "metadata": {},
   "source": [
    "&nbsp; 5. Modify the function __`cy-get-data-[CODE]`__ to deserialize the data retrieved from DynamoDB:"
   ]
  },
  {
   "cell_type": "code",
   "execution_count": null,
   "id": "721952e3",
   "metadata": {},
   "outputs": [],
   "source": [
    "const AWS = require('aws-sdk');\n",
    "const dynamodb = new AWS.DynamoDB({region:'eu-central-1',apiVersion:'2012-08-10'});\n",
    "\n",
    "exports.handler = (event, context, callback) => {\n",
    "    const type = event.type;\n",
    "    \n",
    "    if (type === 'all') {\n",
    "        const params = {\n",
    "            TableName:'compare-yourself-20201234'\n",
    "        }\n",
    "        dynamodb.scan(params, function(err, data) {\n",
    "            if (!err) {\n",
    "                console.log(data);\n",
    "                \n",
    "                const items = data.Items.map((dataField) => {\n",
    "                    return {Age: + dataField.Age.N, \n",
    "                            Height: + dataField.Height.N, \n",
    "                            Income: + dataField.Income.N}\n",
    "                    }\n",
    "                )\n",
    "                \n",
    "                callback(null, items)\n",
    "            } else {\n",
    "                console.log(err);\n",
    "                callback(err);\n",
    "            }\n",
    "        })\n",
    "    } else if (type === 'single') {\n",
    "        callback(null, 'single');\n",
    "    } else {\n",
    "        callback(null, 'other');\n",
    "    }\n",
    "}"
   ]
  },
  {
   "cell_type": "markdown",
   "id": "a4809799",
   "metadata": {},
   "source": [
    "&nbsp; 6. __Deploy__ the function.<br /><br />\n",
    "&nbsp; 7. Click __Test__ and review the results.<br /><br />\n",
    "&nbsp; 8. Modify the function __`cy-get-data-[CODE]`__ to complete the `single` condition using a `Userid` value taken from the table __`compare-yourself-[CODE]`__."
   ]
  },
  {
   "cell_type": "code",
   "execution_count": null,
   "id": "2ea6bff2",
   "metadata": {},
   "outputs": [],
   "source": [
    "const AWS = require('aws-sdk');\n",
    "const dynamodb = new AWS.DynamoDB({region:'eu-central-1',apiVersion:'2012-08-10'});\n",
    "\n",
    "exports.handler = (event, context, callback) => {\n",
    "    const type = event.type;\n",
    "    \n",
    "    if (type === 'all') {\n",
    "        const params = {\n",
    "            TableName:'compare-yourself-20201234'\n",
    "        }\n",
    "        dynamodb.scan(params, function(err, data) {\n",
    "            if (!err) {\n",
    "                console.log(data);\n",
    "                \n",
    "                const items = data.Items.map((dataField) => {\n",
    "                    return {Age: + dataField.Age.N, \n",
    "                            Height: + dataField.Height.N, \n",
    "                            Income: + dataField.Income.N}\n",
    "                    }\n",
    "                )\n",
    "                \n",
    "                callback(null, items)\n",
    "            } else {\n",
    "                console.log(err);\n",
    "                callback(err);\n",
    "            }\n",
    "        })\n",
    "    } else if (type === 'single') {\n",
    "        const params = {\n",
    "            Key: {\n",
    "                \"Userid\": {\n",
    "                    S: \"U...\"  // Copy a Userid value from your table \n",
    "                }\n",
    "            },\n",
    "            TableName:'compare-yourself-20201234'\n",
    "        }\n",
    "        \n",
    "        dynamodb.getItem(params, function(err, data) {\n",
    "            if (!err) {\n",
    "                console.log(data);\n",
    "                // Return an array\n",
    "                callback(null, [\"Age:\" + data.Item.Age.N,\n",
    "                               \"Height:\" + data.Item.Height.N,\n",
    "                               \"Income:\" + data.Item.Income.N])\n",
    "            } else {\n",
    "                console.log(err);\n",
    "                callback(err);\n",
    "            }\n",
    "        })\n",
    "    } else {\n",
    "        callback(null, 'other');\n",
    "    }\n",
    "}"
   ]
  },
  {
   "cell_type": "markdown",
   "id": "8795dcf2",
   "metadata": {},
   "source": [
    "&nbsp; 9. __Deploy__ the function.<br /><br />\n",
    "&nbsp; 10. Create a __test event__ with the following JSON format:"
   ]
  },
  {
   "cell_type": "code",
   "execution_count": null,
   "id": "1e2dcda3",
   "metadata": {},
   "outputs": [],
   "source": [
    "{\n",
    "    \"type\": \"single\"\n",
    "}"
   ]
  },
  {
   "cell_type": "markdown",
   "id": "245082dd",
   "metadata": {},
   "source": [
    "&nbsp; 11. Click __Test__ and review the results.<br /><br />\n",
    "&nbsp; 12. Perform persistence tests with __API Gateway__ and __Postman__:<br /><br />\n",
    "&nbsp;&nbsp;&nbsp;&nbsp; 12.1. __Test__ with the __API Gateway__ console:\n",
    "- Go to __GET__ method and click __Test__.<br /><br />\n",
    "- In the `{type}` path, type `all` and click __Test__.<br /><br />\n",
    "- Review the results.<br /><br />\n",
    "- Repeat the previous steps with the type `single`.<br /><br />\n",
    "&nbsp;12.2. __Test__ using __Postman__:<br /><br />\n",
    "- __Deploy__ API.<br/><br/>\n",
    "- Open Postman, create a new __HTTP GET request__.<br/><br/>\n",
    "- Copy the __Invoke URL__ from API Gateway and paste it in Postman.<br/><br/>\n",
    "- Add `/all` and `/single` for each test."
   ]
  },
  {
   "cell_type": "markdown",
   "id": "9c8a7574",
   "metadata": {},
   "source": [
    "<div style=\"background-color: #f2f2f0;padding-top: 10px;padding-bottom: 10px;padding-left: 10px;\">\n",
    "    <h3>Part 4: Create a custom authorization</h3>\n",
    "</div>"
   ]
  },
  {
   "cell_type": "markdown",
   "id": "afafed8c",
   "metadata": {},
   "source": [
    "1. Go to __`Lambda > Create function`__.<br /><br />\n",
    "2. Create a function named __`cy-custom-auth-[CODE]`__ with __Node.js 16.x__ Runtime<br /><br />\n",
    "3. Select an existing role, in this case use __service-role/cy-store-data-role-jrt56dob__<br /><br />\n",
    "4. Leave the remaining fields with their default values and create the function.<br /><br />\n",
    "3. Modify the code for the function __`cy-custom-auth-[CODE]`__ as follows:"
   ]
  },
  {
   "cell_type": "code",
   "execution_count": null,
   "id": "15c5f342",
   "metadata": {},
   "outputs": [],
   "source": [
    "exports.handler = (event, context, callback) => {\n",
    "    const token = event.authorizationToken;\n",
    "    \n",
    "    if (token === 'allow') {\n",
    "        const policy = generatePolicy('allow', event.methodArn);\n",
    "        const principalId = 'abcd1234';\n",
    "        const context = {\n",
    "            simpleAuth: true\n",
    "        }\n",
    "        const response = {\n",
    "            principalId: principalId,\n",
    "            policyDocument: policy,\n",
    "            context: context\n",
    "        }\n",
    "        callback(null, response);\n",
    "    } else if (token === 'deny') {\n",
    "        const policy = generatePolicy('deny', event.methodArn);\n",
    "        const principalId = 'abcd1234';\n",
    "        const context = {\n",
    "            simpleAuth: true\n",
    "        }\n",
    "        const response = {\n",
    "            principalId: principalId,\n",
    "            policyDocument: policy,\n",
    "            context: context\n",
    "        }\n",
    "        callback(null, response);\n",
    "    } else {\n",
    "        callback('Unauthorized');\n",
    "    }\n",
    "}\n",
    "\n",
    "function generatePolicy(effect, resource) {\n",
    "    const policy = {};\n",
    "    policy.Version = '2012-10-17';\n",
    "    policy.Statement = [];\n",
    "    \n",
    "    const stmt = {};\n",
    "    stmt.Action = 'execute-api:Invoke';\n",
    "    stmt.Effect = effect;\n",
    "    stmt.Resource = resource;\n",
    "    \n",
    "    policy.Statement.push(stmt);\n",
    "    return policy;\n",
    "}"
   ]
  },
  {
   "cell_type": "markdown",
   "id": "6b449ee8",
   "metadata": {},
   "source": [
    "<div class=\"alert alert-block alert-info\">\n",
    "    <center>\n",
    "        <b>AWS Policy structure</b><br />\n",
    "        <img src=\"https://i.ibb.co/F4KnhRf/awspolicy.png\" width=\"500\" />\n",
    "    </center>\n",
    "</div>"
   ]
  },
  {
   "cell_type": "markdown",
   "id": "6f124ee4",
   "metadata": {},
   "source": [
    "&nbsp; 4. __Deploy__ the function.<br /><br />\n",
    "&nbsp; 5. Configure a new __test event__ with the following JSON format:"
   ]
  },
  {
   "cell_type": "code",
   "execution_count": null,
   "id": "577446be",
   "metadata": {},
   "outputs": [],
   "source": [
    "{\n",
    "    \"authorizationToken\": \"allow\"\n",
    "}"
   ]
  },
  {
   "cell_type": "markdown",
   "id": "6d9e8541",
   "metadata": {},
   "source": [
    "&nbsp; 6. Review the results.<br /><br />\n",
    "&nbsp; 7. Go to __`API Gateway > Authorizers`__ and click __Create New Authorizer__.<br /><br />\n",
    "&nbsp; 8. Create a new authorizer with the following attributes:<br />\n",
    ">Name: __`simple-custom-auth-[CODE]`__<br /><br />\n",
    ">Type: __Lambda__<br /><br />\n",
    ">Lambda function: __`cy-custom-auth-[CODE]`__<br /><br />\n",
    ">Lambda Event Payload: __Token__<br /><br />\n",
    ">Token source: __`Authorization`__<br /><br />\n",
    "\n",
    "&nbsp; 9. Click __Create__ and __Grant & Create__.<br /><br />\n",
    "&nbsp; 10. Click __Test__.<br /><br />\n",
    "&nbsp; 11. Type `allow` as Authorization (header).<br /><br />\n",
    "&nbsp; 12. Review the results.<br /><br />\n",
    "&nbsp; 13. Go to __`API Gateway > Resources > POST > Method Request`__.<br /><br />\n",
    "&nbsp; 14. Select `simple-custom-auth-[CODE]`as __Authorization__ and click __Update__.<br /><br />\n",
    "&nbsp; 15. __Deploy__ API.<br /><br />\n",
    "&nbsp; 16. Go to __Postman__, in the __POST__ request select the __Headers__ tab and add the key-value pair `Authorization:allow`<br /><br />\n",
    "&nbsp; 17. If the test is successful, a new record must be inserted in the table __`compare-yourself-[CODE]`__ in DynamoDB.<br /><br />\n",
    "&nbsp; 18. As another test, change the key-value pair to `Authorization:deny`<br /><br />\n",
    "&nbsp; 19. Review the results."
   ]
  },
  {
   "cell_type": "markdown",
   "id": "8b50b846",
   "metadata": {},
   "source": [
    "The next step is to replace the random `Userid` in the function __`cy-store-data-[CODE]`__ with the hardcoded `principalId` value in the function __`cy-custom-auth-[CODE]`__."
   ]
  },
  {
   "cell_type": "markdown",
   "id": "89d53bac",
   "metadata": {},
   "source": [
    "<div class=\"alert alert-block alert-info\">\n",
    "    In a Production environment the <b>principalId</b> represents the unique identifier of a logged user and is passed as a result of the authentication process.\n",
    "</div>"
   ]
  },
  {
   "cell_type": "markdown",
   "id": "d74de98b",
   "metadata": {},
   "source": [
    "&nbsp; 20. Go to __`POST > Integration Request > Mapping Templates > Content-Type: application-json`__ and modify the __template__."
   ]
  },
  {
   "cell_type": "code",
   "execution_count": null,
   "id": "8bfbe3f7",
   "metadata": {},
   "outputs": [],
   "source": [
    "{\n",
    "    \"age\": $input.json('$.age'),\n",
    "    \"height\": $input.json('$.height'),\n",
    "    \"income\": $input.json('$.income'),\n",
    "    \"userId\": \"$context.authorizer.principalId\"\n",
    "}"
   ]
  },
  {
   "cell_type": "markdown",
   "id": "9a95d6e0",
   "metadata": {},
   "source": [
    "&nbsp; 21. Go to the Lambda function __`cy-store-data-[CODE]`__ and modify the code:"
   ]
  },
  {
   "cell_type": "code",
   "execution_count": null,
   "id": "ee8afeda",
   "metadata": {},
   "outputs": [],
   "source": [
    "const AWS = require('aws-sdk');\n",
    "const dynamodb = new AWS.DynamoDB({region:'eu-central-1',apiVersion:'2012-08-10'});\n",
    "\n",
    "exports.handler = (event, context, callback) => {\n",
    "    const params = {\n",
    "        Item: {\n",
    "            \"Userid\": {\n",
    "                \"S\": event.userId\n",
    "            },\n",
    "            \"Age\": {\n",
    "                \"N\": \"\" + event.age\n",
    "            },\n",
    "            \"Height\": {\n",
    "                \"N\": \"\" + event.height\n",
    "            },\n",
    "            \"Income\": { \n",
    "                \"N\": \"\" + event.income\n",
    "            }\n",
    "        },\n",
    "        TableName: \"compare-yourself-20201234\"\n",
    "    }\n",
    "\n",
    "    dynamodb.putItem(params, function(err, data) {\n",
    "        if (!err) {\n",
    "            console.log(data);\n",
    "            callback(null, data);\n",
    "        } else {\n",
    "            console.log(err);\n",
    "            callback(err);\n",
    "        }\n",
    "    })\n",
    "}"
   ]
  },
  {
   "cell_type": "markdown",
   "id": "47cef2b6",
   "metadata": {},
   "source": [
    "&nbsp; 22. __Deploy__ the function __`cy-store-data-[CODE]`__.<br /><br />\n",
    "&nbsp; 23. __Deploy__ the API.<br /><br />\n",
    "&nbsp; 24. __Test__ the __POST__ method using __Postman__ including the key-value pair `Authorization:allow`.<br /><br />\n",
    "&nbsp; 25. Check the items in the table __`compare-yourself-[CODE]`__ in DynamoDB, now the record inserted has the hardcoded `principalId` value from the function __`cy-custom-auth-[CODE]`__ as the `Userid`."
   ]
  },
  {
   "cell_type": "markdown",
   "id": "ff2040dc",
   "metadata": {},
   "source": [
    "<div style=\"background-color: #f2f2f0;padding-top: 10px;padding-bottom: 10px;padding-left: 10px;\">\n",
    "    <h3>Part 5: Host a static website in S3</h3>\n",
    "</div>"
   ]
  },
  {
   "cell_type": "markdown",
   "id": "e3896fb4",
   "metadata": {},
   "source": [
    "We will use a demo project hosted on a __Github__ repository located at:\n",
    "\n",
    "__[https://github.com/vhgiron-u/compare-yourself-frontend.git](https://github.com/vhgiron-u/compare-yourself-frontend.git)__"
   ]
  },
  {
   "cell_type": "markdown",
   "id": "9c6e21e9",
   "metadata": {},
   "source": [
    "<div class=\"alert alert-block alert-success\">\n",
    "    For this activity you need to have installed <b>Git</b>.\n",
    "    You can download <b>Git</b> from:<br /><br />\n",
    "    <a href=\"https://git-scm.com/downloads\">https://git-scm.com/downloads</a><br /><br />\n",
    "    Git documentation:<br /><br />\n",
    "    <a href=\"https://git-scm.com/docs\">https://git-scm.com/docs</a>\n",
    "</div>"
   ]
  },
  {
   "cell_type": "markdown",
   "id": "b00b1086",
   "metadata": {},
   "source": [
    "Or, to download without installing git:"
   ]
  },
  {
   "attachments": {
    "Download%20without%20git.png": {
     "image/png": "[encoded data removed]"
    }
   },
   "cell_type": "markdown",
   "id": "742efca3",
   "metadata": {},
   "source": [
    "![Download%20without%20git.png](attachment:Download%20without%20git.png)\n",
    "<br>"
   ]
  },
  {
   "cell_type": "markdown",
   "id": "b7a4c971",
   "metadata": {},
   "source": [
    "<div class=\"alert alert-block alert-success\">\n",
    "    <b>GitHub</b> is a web-based collaborative coding and a distributed version control platform based on <b>Git</b>.\n",
    "</div>"
   ]
  },
  {
   "cell_type": "markdown",
   "id": "79c559c8",
   "metadata": {},
   "source": [
    "<div class=\"alert alert-block alert-success\">\n",
    "    <a href=\"https://aws.amazon.com/s3/\">Amazon S3</a> is an object storage service.\n",
    "</div>"
   ]
  },
  {
   "cell_type": "markdown",
   "id": "14fb403f",
   "metadata": {},
   "source": [
    "\n",
    "To host a static website in __Amazon S3__,  do the following:<br />\n",
    "1. Create a directory in a desired location on your PC.<br /><br />\n",
    "2. Right click and select __Git Bash Here__. The Git console is prompted.<br /><br />\n",
    "3. Type the command `git clone https://github.com/hufedebe/compare-yourself-frontend.git` to clone the repository into your directory."
   ]
  },
  {
   "cell_type": "markdown",
   "id": "a3659dc9",
   "metadata": {},
   "source": [
    "<div class=\"alert alert-block alert-info\">\n",
    "    For the purpose of this activity, the Angular demo project is already <b>built</b> in the folder <b>dist</b>, meaning that JavaScript, HTML and CSS files required the webapp are ready to be hosted in a server.\n",
    "</div>"
   ]
  },
  {
   "cell_type": "markdown",
   "id": "1d192ec7",
   "metadata": {},
   "source": [
    "&nbsp; 4. Go to __Amazon S3__.<br /><br />\n",
    "&nbsp; 5. Create a bucket with the following attributes:<br />\n",
    ">Bucket name: __`1mtr15-[CODE]`__<br /><br />\n",
    ">AWS Region: __`Europe (Frankfurt) eu-central-1`__<br /><br />\n",
    ">In the section __Block Public Access settings for this bucket__, __Uncheck__ _Block all public access_<br /><br />\n",
    ">__Check__ _I acknowledge that the current settings might result in this bucket and the objects within becoming public._<br /><br />\n",
    "\n",
    "&nbsp; 6. Open the bucket __`1mtr15-[CODE]`__<br /><br />\n",
    "&nbsp; 7. Click __Upload__ and add all the files located in the `dist` directory of the Angular project.<br /><br />\n",
    "&nbsp; 8. Click __Upload__ and review the __Summary__.<br /><br />\n",
    "&nbsp; 9. Click __Close__.<br /><br />\n",
    "&nbsp; 10. Switch to the __Permissions__ tab.<br /><br />\n",
    "&nbsp; 11. In the __Bucket policy__ section, click __Edit__<br /><br />\n",
    "&nbsp; 12. Type the following __policy__:"
   ]
  },
  {
   "cell_type": "code",
   "execution_count": null,
   "id": "99254c0c",
   "metadata": {},
   "outputs": [],
   "source": [
    "{\n",
    "    \"Version\": \"2012-10-17\",\n",
    "    \"Statement\": [\n",
    "        {\n",
    "            \"Sid\": \"PublicRead\",\n",
    "            \"Principal\": \"*\",\n",
    "            \"Effect\": \"Allow\",\n",
    "            \"Action\": [\"s3:GetObject\",\"s3:GetObjectVersion\"],\n",
    "            \"Resource\": [\"arn:aws:s3:.../*\"]  // Type bucket ARN (add /*)\n",
    "        }\n",
    "    ]\n",
    "}"
   ]
  },
  {
   "cell_type": "markdown",
   "id": "db7c6f52",
   "metadata": {},
   "source": [
    "&nbsp; 13. Click __Save changes__.<br /><br />\n",
    "&nbsp; 14. Switch to the __Properties__ tab.<br /><br />\n",
    "&nbsp; 15. In the __Static website hosting__ section, click __Edit__.<br /><br />\n",
    "&nbsp; 16. __Enable__ Static website hosting.<br /><br />\n",
    "&nbsp; 17. Type __`index.html`__ as Index document and Error document.<br /><br />\n",
    "&nbsp; 18. Click __Save changes__.<br /><br />\n",
    "&nbsp; 19. Now the __URL__ of the static website is displayed at the bottom of the page."
   ]
  }
 ],
 "metadata": {
  "kernelspec": {
   "display_name": "JavaScript (Node.js)",
   "language": "javascript",
   "name": "javascript"
  },
  "language_info": {
   "file_extension": ".js",
   "mimetype": "application/javascript",
   "name": "javascript",
   "version": "18.9.1"
  }
 },
 "nbformat": 4,
 "nbformat_minor": 5
}
